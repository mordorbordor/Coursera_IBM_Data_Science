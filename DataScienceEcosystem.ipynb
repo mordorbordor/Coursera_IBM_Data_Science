{
 "cells": [
  {
   "cell_type": "markdown",
   "id": "8cdbaf8e-b4ed-45e8-b289-4f6457995754",
   "metadata": {},
   "source": [
    "# Data Science Tools and Ecosystem"
   ]
  },
  {
   "cell_type": "markdown",
   "id": "a8821876-d53e-4ba2-aa49-d85a028d5ef0",
   "metadata": {},
   "source": [
    "## Author\n",
    "\n",
    "Raunak Singh"
   ]
  },
  {
   "cell_type": "markdown",
   "id": "878a8736-67e6-4d57-b3e1-50924ce9c705",
   "metadata": {},
   "source": [
    "In this notebook, Data Science Tools and Ecosystem are summarised. "
   ]
  },
  {
   "cell_type": "markdown",
   "id": "ca9cdc6e-0ba0-4835-9c4d-fd3c929ef640",
   "metadata": {},
   "source": [
    "**Objectives**\n",
    "\n",
    "* Popular languages in Data Science\n",
    "* Data Science Tools\n",
    "* Simple arithmetic expressions\n",
    "* Unit conversions"
   ]
  },
  {
   "cell_type": "markdown",
   "id": "e568c151-8abd-4877-8237-6afa217c5ede",
   "metadata": {},
   "source": [
    "Some of the popular languages that Data Scientists use are: \n",
    "\n",
    "1. SQL\n",
    "2. Python\n",
    "3. R\n",
    "4. Java\n",
    "5. C++\n",
    "6. C\n",
    "7. Scala\n",
    "8. Red Hat\n",
    "   "
   ]
  },
  {
   "cell_type": "markdown",
   "id": "9f080d7a-f029-4cd3-a6b8-c981c71a4412",
   "metadata": {},
   "source": [
    "|Data Science Tools|\n",
    "|---------|\n",
    "|__R-programming__|\n",
    "|`Python`|\n",
    "|*VS Code*|"
   ]
  },
  {
   "cell_type": "markdown",
   "id": "d5cb9cff-7715-46c5-aa41-8c38806ae101",
   "metadata": {},
   "source": [
    "### Below are a few examples of evaluating Arithmetic Expressions in Python"
   ]
  },
  {
   "cell_type": "code",
   "execution_count": 26,
   "id": "94a5ec70-20f3-412c-b32b-f278ac0a35a2",
   "metadata": {},
   "outputs": [
    {
     "data": {
      "text/plain": [
       "17"
      ]
     },
     "execution_count": 26,
     "metadata": {},
     "output_type": "execute_result"
    }
   ],
   "source": [
    "## This is a simple arithmetic expression to multiply then add integers. \n",
    "(3*4)+5"
   ]
  },
  {
   "cell_type": "code",
   "execution_count": 28,
   "id": "127b02bb-285f-4508-8c82-51cba7a9ef8d",
   "metadata": {},
   "outputs": [
    {
     "data": {
      "text/plain": [
       "3.3333333333333335"
      ]
     },
     "execution_count": 28,
     "metadata": {},
     "output_type": "execute_result"
    }
   ],
   "source": [
    "## This code will convert 200 minutes in to hours by dividing by 60. \n",
    "200/60"
   ]
  }
 ],
 "metadata": {
  "kernelspec": {
   "display_name": "Python 3 (ipykernel)",
   "language": "python",
   "name": "python3"
  },
  "language_info": {
   "codemirror_mode": {
    "name": "ipython",
    "version": 3
   },
   "file_extension": ".py",
   "mimetype": "text/x-python",
   "name": "python",
   "nbconvert_exporter": "python",
   "pygments_lexer": "ipython3",
   "version": "3.11.7"
  }
 },
 "nbformat": 4,
 "nbformat_minor": 5
}
